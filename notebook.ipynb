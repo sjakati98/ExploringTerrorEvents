{
 "cells": [
  {
   "cell_type": "code",
   "execution_count": 3,
   "metadata": {
    "_cell_guid": "2afdb044-e32c-4569-a3cf-a2f01b58d6da",
    "_uuid": "059a2440af08916ab66f7af1e87f78abbf7b7cdb",
    "collapsed": true
   },
   "outputs": [],
   "source": [
    "import numpy as np\n",
    "import pandas as pd \n",
    "import matplotlib.pyplot as plt\n",
    "from collections import defaultdict"
   ]
  },
  {
   "cell_type": "markdown",
   "metadata": {
    "_cell_guid": "b82493a4-52f0-4cf1-8768-e4457657676f",
    "_uuid": "470503b0394073141d38bdc82438a3fdadbd34e9"
   },
   "source": [
    "Loaded in the imports, and now to load in the dataset."
   ]
  },
  {
   "cell_type": "code",
   "execution_count": 5,
   "metadata": {
    "_cell_guid": "eb7eacf7-87db-4599-9b7e-c42237f6451e",
    "_uuid": "e489db067950ef1d82827df0c10c602df82733a4"
   },
   "outputs": [
    {
     "data": {
      "text/html": [
       "<div>\n",
       "<style>\n",
       "    .dataframe thead tr:only-child th {\n",
       "        text-align: right;\n",
       "    }\n",
       "\n",
       "    .dataframe thead th {\n",
       "        text-align: left;\n",
       "    }\n",
       "\n",
       "    .dataframe tbody tr th {\n",
       "        vertical-align: top;\n",
       "    }\n",
       "</style>\n",
       "<table border=\"1\" class=\"dataframe\">\n",
       "  <thead>\n",
       "    <tr style=\"text-align: right;\">\n",
       "      <th></th>\n",
       "      <th>eventid</th>\n",
       "      <th>iyear</th>\n",
       "      <th>imonth</th>\n",
       "      <th>iday</th>\n",
       "      <th>country</th>\n",
       "      <th>country_txt</th>\n",
       "      <th>attacktype1</th>\n",
       "      <th>attacktype1_txt</th>\n",
       "      <th>target1</th>\n",
       "      <th>natlty1</th>\n",
       "      <th>natlty1_txt</th>\n",
       "    </tr>\n",
       "  </thead>\n",
       "  <tbody>\n",
       "    <tr>\n",
       "      <th>0</th>\n",
       "      <td>197000000001</td>\n",
       "      <td>1970</td>\n",
       "      <td>7</td>\n",
       "      <td>2</td>\n",
       "      <td>58</td>\n",
       "      <td>Dominican Republic</td>\n",
       "      <td>1</td>\n",
       "      <td>Assassination</td>\n",
       "      <td>Julio Guzman</td>\n",
       "      <td>58.0</td>\n",
       "      <td>Dominican Republic</td>\n",
       "    </tr>\n",
       "    <tr>\n",
       "      <th>1</th>\n",
       "      <td>197000000002</td>\n",
       "      <td>1970</td>\n",
       "      <td>0</td>\n",
       "      <td>0</td>\n",
       "      <td>130</td>\n",
       "      <td>Mexico</td>\n",
       "      <td>6</td>\n",
       "      <td>Hostage Taking (Kidnapping)</td>\n",
       "      <td>Nadine Chaval, daughter</td>\n",
       "      <td>21.0</td>\n",
       "      <td>Belgium</td>\n",
       "    </tr>\n",
       "    <tr>\n",
       "      <th>2</th>\n",
       "      <td>197001000001</td>\n",
       "      <td>1970</td>\n",
       "      <td>1</td>\n",
       "      <td>0</td>\n",
       "      <td>160</td>\n",
       "      <td>Philippines</td>\n",
       "      <td>1</td>\n",
       "      <td>Assassination</td>\n",
       "      <td>Employee</td>\n",
       "      <td>217.0</td>\n",
       "      <td>United States</td>\n",
       "    </tr>\n",
       "    <tr>\n",
       "      <th>3</th>\n",
       "      <td>197001000002</td>\n",
       "      <td>1970</td>\n",
       "      <td>1</td>\n",
       "      <td>0</td>\n",
       "      <td>78</td>\n",
       "      <td>Greece</td>\n",
       "      <td>3</td>\n",
       "      <td>Bombing/Explosion</td>\n",
       "      <td>U.S. Embassy</td>\n",
       "      <td>217.0</td>\n",
       "      <td>United States</td>\n",
       "    </tr>\n",
       "    <tr>\n",
       "      <th>4</th>\n",
       "      <td>197001000003</td>\n",
       "      <td>1970</td>\n",
       "      <td>1</td>\n",
       "      <td>0</td>\n",
       "      <td>101</td>\n",
       "      <td>Japan</td>\n",
       "      <td>7</td>\n",
       "      <td>Facility/Infrastructure Attack</td>\n",
       "      <td>U.S. Consulate</td>\n",
       "      <td>217.0</td>\n",
       "      <td>United States</td>\n",
       "    </tr>\n",
       "  </tbody>\n",
       "</table>\n",
       "</div>"
      ],
      "text/plain": [
       "        eventid  iyear  imonth  iday  country         country_txt  \\\n",
       "0  197000000001   1970       7     2       58  Dominican Republic   \n",
       "1  197000000002   1970       0     0      130              Mexico   \n",
       "2  197001000001   1970       1     0      160         Philippines   \n",
       "3  197001000002   1970       1     0       78              Greece   \n",
       "4  197001000003   1970       1     0      101               Japan   \n",
       "\n",
       "   attacktype1                 attacktype1_txt                  target1  \\\n",
       "0            1                   Assassination             Julio Guzman   \n",
       "1            6     Hostage Taking (Kidnapping)  Nadine Chaval, daughter   \n",
       "2            1                   Assassination                 Employee   \n",
       "3            3               Bombing/Explosion             U.S. Embassy   \n",
       "4            7  Facility/Infrastructure Attack           U.S. Consulate   \n",
       "\n",
       "   natlty1         natlty1_txt  \n",
       "0     58.0  Dominican Republic  \n",
       "1     21.0             Belgium  \n",
       "2    217.0       United States  \n",
       "3    217.0       United States  \n",
       "4    217.0       United States  "
      ]
     },
     "execution_count": 5,
     "metadata": {},
     "output_type": "execute_result"
    }
   ],
   "source": [
    "main_df = pd.read_csv('./globalterrorismdb_0617dist.csv',encoding='ISO-8859-1', usecols=[0,1,2,3,7,8,28,29,39,40,41])\n",
    "main_df.head()"
   ]
  },
  {
   "cell_type": "code",
   "execution_count": 6,
   "metadata": {
    "_cell_guid": "587120b8-526f-45ea-ad51-960c20a339d3",
    "_uuid": "3b2445b22ec023813e65a299a1c69b03f11f17d9"
   },
   "outputs": [
    {
     "name": "stdout",
     "output_type": "stream",
     "text": [
      "[18402, 40223, 83073, 598, 902, 10233, 9581, 913, 6425]\n"
     ]
    }
   ],
   "source": [
    "count = [0] * 9\n",
    "for _, event in main_df.iterrows():\n",
    "    if event['attacktype1'] == 1:\n",
    "        count[0] += 1\n",
    "    if event['attacktype1'] == 2:\n",
    "        count[1] += 1\n",
    "    if event['attacktype1'] == 3:\n",
    "        count[2] += 1\n",
    "    if event['attacktype1'] == 4:\n",
    "        count[3] += 1\n",
    "    if event['attacktype1'] == 5:\n",
    "        count[4] += 1\n",
    "    if event['attacktype1'] == 6:\n",
    "        count[5] += 1\n",
    "    if event['attacktype1'] == 7:\n",
    "        count[6] += 1\n",
    "    if event['attacktype1'] == 8:\n",
    "        count[7] += 1\n",
    "    if event['attacktype1'] == 9:\n",
    "        count[8] += 1\n",
    "\n",
    "print(count)\n",
    "\n"
   ]
  },
  {
   "cell_type": "code",
   "execution_count": 14,
   "metadata": {
    "_cell_guid": "4c9b6197-f41e-4a7f-a524-01418c5971da",
    "_uuid": "706a59dfe2495b92cf2fae0a0610ffbd45107ede"
   },
   "outputs": [],
   "source": [
    "attack_year_type = []\n",
    "attack_types = []\n",
    "year_type_counter = defaultdict(lambda: defaultdict(int))\n",
    "for _, event in main_df.iterrows():\n",
    "    attack_year_type.append((event['iyear'], event['attacktype1_txt']))\n",
    "    year_type_counter[int(event['iyear'])][event['attacktype1_txt']] += 1\n",
    "    if event['attacktype1_txt'] not in attack_types:\n",
    "        attack_types.append(event['attacktype1_txt']) "
   ]
  },
  {
   "cell_type": "markdown",
   "metadata": {
    "_cell_guid": "692df493-1858-4b95-9ce2-931bed11ea86",
    "_uuid": "1d48ecec76938b2ef0f6c9f17014cd402aba632f"
   },
   "source": [
    "Finding the amount of bombing/explosion terrorist events in the years 1970 to 2016. There seems to be a large uptick in the years following 2000-2001. After further exploration, it is hard to conclude that the increase in explosion events is in anyway correlated to the price of common explosives."
   ]
  },
  {
   "cell_type": "code",
   "execution_count": 15,
   "metadata": {},
   "outputs": [
    {
     "data": {
      "image/png": "[encoded data removed]",
      "text/plain": [
       "<matplotlib.figure.Figure at 0x118292a90>"
      ]
     },
     "metadata": {},
     "output_type": "display_data"
    }
   ],
   "source": [
    "def plot_attack(attack_type):\n",
    "    x = np.arange(1970,2016)\n",
    "    y = []\n",
    "    \n",
    "    for year in year_type_counter:\n",
    "        y.append(year_type_counter[year][attack_type])\n",
    "        \n",
    "    plt.scatter(x, y, label=attack_type)\n",
    "    plt.plot(x,y)\n",
    "\n",
    "for attack_type in attack_types:\n",
    "    plot_attack(attack_type)\n",
    "plt.ylabel('Number of Events')\n",
    "plt.xlabel('Year')\n",
    "plt.title('Terrorist Events')\n",
    "plt.legend(loc='upper left');\n",
    "plt.show()"
   ]
  },
  {
   "cell_type": "code",
   "execution_count": null,
   "metadata": {
    "collapsed": true
   },
   "outputs": [],
   "source": []
  }
 ],
 "metadata": {
  "kernelspec": {
   "display_name": "Python 3",
   "language": "python",
   "name": "python3"
  },
  "language_info": {
   "codemirror_mode": {
    "name": "ipython",
    "version": 3
   },
   "file_extension": ".py",
   "mimetype": "text/x-python",
   "name": "python",
   "nbconvert_exporter": "python",
   "pygments_lexer": "ipython3",
   "version": "3.6.1"
  }
 },
 "nbformat": 4,
 "nbformat_minor": 1
}
